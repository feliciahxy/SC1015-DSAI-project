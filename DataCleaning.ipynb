{
 "cells": [
  {
   "cell_type": "code",
   "execution_count": null,
   "metadata": {},
   "outputs": [],
   "source": [
    "import numpy as np\n",
    "import pandas as pd\n",
    "import json\n",
    "import seaborn as sb\n",
    "import matplotlib.pyplot as plt"
   ]
  },
  {
   "cell_type": "code",
   "execution_count": null,
   "metadata": {},
   "outputs": [],
   "source": [
    "youtube_video_data = pd.read_csv('US_youtube_trending_data_15_4_24.csv')\n",
    "channel_data = pd.read_csv('Top Youtubers Dataset.csv', encoding='ISO-8859-1')"
   ]
  },
  {
   "cell_type": "code",
   "execution_count": null,
   "metadata": {},
   "outputs": [],
   "source": [
    "# cleaning video data\n",
    "# removing columns\n",
    "youtube_video_data = youtube_video_data.drop(['thumbnail_link', 'comments_disabled', 'ratings_disabled', 'description'], axis = 1)\n",
    "\n",
    "# mapping category \n",
    "with open(\"US_category_id.json\", \"r\") as file:\n",
    "    data = json.load(file)\n",
    "\n",
    "category_mapping = {}\n",
    "for item in data.get(\"items\", []):\n",
    "    category_mapping[item['id']] = item[\"snippet\"][\"title\"]\n",
    "\n",
    "youtube_video_data[\"categoryId\"] = youtube_video_data[\"categoryId\"].astype(str).map(category_mapping)\n",
    "youtube_video_data.rename(columns = {'categoryId': 'category'}, inplace = True)\n",
    "# youtube_video_data.drop_duplicates() # no duplicates \n",
    "# youtube_video_data.shape\n",
    "\n",
    "# mapping top channel (T/F)\n",
    "top_channels = channel_data[\"Youtuber\"].tolist()\n",
    "youtube_video_data[\"Top channel\"] = False\n",
    "youtube_video_data.loc[youtube_video_data[\"channelTitle\"].isin(top_channels), \"Top channel\"] = True\n",
    "\n",
    "youtube_video_data.head()\n"
   ]
  },
  {
   "cell_type": "code",
   "execution_count": null,
   "metadata": {},
   "outputs": [],
   "source": [
    "# Clean channel data\n",
    "channel_data = channel_data.drop(['Rank'], axis=1)\n",
    "\n",
    "# Remove rows where the 'Video Views' or 'Video Count' are equal to zero\n",
    "channel_data = channel_data[(channel_data['Video Views'] > 0) & (channel_data['Video Count'] > 0)]\n",
    "\n",
    "# Remove rows with missing category values\n",
    "channel_data = channel_data.dropna(subset=['Category'])\n",
    "\n",
    "# Display cleaned data\n",
    "channel_data"
   ]
  },
  {
   "cell_type": "code",
   "execution_count": null,
   "metadata": {},
   "outputs": [],
   "source": []
  },
  {
   "cell_type": "code",
   "execution_count": null,
   "metadata": {},
   "outputs": [],
   "source": []
  }
 ],
 "metadata": {
  "kernelspec": {
   "display_name": "Python [conda env:base] *",
   "language": "python",
   "name": "conda-base-py"
  },
  "language_info": {
   "codemirror_mode": {
    "name": "ipython",
    "version": 3
   },
   "file_extension": ".py",
   "mimetype": "text/x-python",
   "name": "python",
   "nbconvert_exporter": "python",
   "pygments_lexer": "ipython3",
   "version": "3.11.5"
  }
 },
 "nbformat": 4,
 "nbformat_minor": 4
}
