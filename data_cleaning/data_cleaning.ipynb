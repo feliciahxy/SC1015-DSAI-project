{
 "cells": [
  {
   "cell_type": "markdown",
   "metadata": {},
   "source": [
    "# Data Preparation & Cleaning\n",
    "\n",
    "- Removed redundant or sparse columns such as Area (SQM), Unit Price (`$` PSM) and Nett Price (`$`).\n",
    "- Standardized pricing using unit Price = Transacted Price/No. of Unit, instead of total Transacted Price as there may be multiple units transacted in 1 transaction.\n",
    "- Extracted Lease Start Year, Lease Duration to calculate Remaining Lease Years. Assumed that all freehold properties have 999 yrs Lease Duration."
   ]
  },
  {
   "cell_type": "code",
   "execution_count": 2,
   "metadata": {},
   "outputs": [],
   "source": [
    "# Import necessary libraries\n",
    "import numpy as np\n",
    "import pandas as pd\n",
    "import re\n",
    "from datetime import datetime\n",
    "import json\n",
    "import seaborn as sb\n",
    "import matplotlib.pyplot as plt"
   ]
  },
  {
   "cell_type": "code",
   "execution_count": 44,
   "metadata": {},
   "outputs": [],
   "source": [
    "private_data = \"../datasets/original/private_with_api.csv\"\n",
    "\n",
    "df = pd.read_csv(private_data, quotechar='\"', escapechar='\\\\', thousands=',')"
   ]
  },
  {
   "cell_type": "code",
   "execution_count": 46,
   "metadata": {},
   "outputs": [],
   "source": [
    "# Cleaning private data\n",
    "df = df.drop(['Area (SQM)','Unit Price ($ PSM)', 'Nett Price($)'], axis = 1)\n",
    "df['Transacted Price ($)'] = df['Transacted Price ($)'].astype(float)\n",
    "df['Number of Units'] = df['Number of Units'].astype(float)\n",
    "df[\"Price\"] = ((df['Transacted Price ($)'])/(df['Number of Units'])).astype(int)\n",
    "\n",
    "# Calculate Remaining Lease Years \n",
    "df[\"Sale Date\"] = pd.to_datetime(df[\"Sale Date\"], format=\"%b-%y\")\n",
    "df[\"Sale Year\"] = df[\"Sale Date\"].dt.year\n",
    "df[\"Lease Duration\"] = df[\"Tenure\"].str.extract(r\"(\\d{2,6})\").astype(float)\n",
    "df[\"Lease Start Year\"] = df[\"Tenure\"].str.extract(r\"(\\d{4})\").astype(float)\n",
    "\n",
    "def calculate_remaining_lease(row):\n",
    "    tenure_text = row[\"Tenure\"].lower()\n",
    "    lease_duration = row[\"Lease Duration\"]\n",
    "    start_year = row[\"Lease Start Year\"]\n",
    "    sale_year = row[\"Sale Year\"]\n",
    "\n",
    "    if \"freehold\" in tenure_text or (lease_duration and lease_duration > 900):\n",
    "        return 999\n",
    "    \n",
    "    if \"leasehold\" in tenure_text:\n",
    "        return lease_duration\n",
    "    \n",
    "    if pd.notna(start_year):\n",
    "        return max(lease_duration - (sale_year - start_year), 0)  \n",
    "    \n",
    "    return None  \n",
    "\n",
    "df[\"Remaining Lease Years\"] = df.apply(calculate_remaining_lease, axis=1)\n",
    "\n",
    "def lease_start_year(row):\n",
    "    type_of_sale = row[\"Type of Sale\"]\n",
    "    sale_year = row['Sale Year']\n",
    "    lease = row[\"Lease Start Year\"]\n",
    "\n",
    "    if \"New Sale\" in type_of_sale:\n",
    "        return sale_year\n",
    "    else:\n",
    "        return lease\n",
    "\n",
    "def lease_duration(row):\n",
    "    tenure_text = row[\"Tenure\"].lower()\n",
    "    lease = row[\"Lease Duration\"]\n",
    "\n",
    "    if \"freehold\" in tenure_text:\n",
    "        return 999\n",
    "    else:\n",
    "        return lease\n",
    "\n",
    "df[\"Lease Start Year\"] = df.apply(lease_start_year, axis = 1).astype('Int64')\n",
    "df[\"Lease Duration\"] = df.apply(lease_duration, axis = 1).astype('Int64')\n",
    "df[\"Remaining Lease Years\"] = df[\"Remaining Lease Years\"].astype('Int64')\n",
    "\n",
    "df.head()\n",
    "df.to_csv(\"cleaned_private.csv\", index=False)\n"
   ]
  }
 ],
 "metadata": {
  "kernelspec": {
   "display_name": "Python [conda env:base] *",
   "language": "python",
   "name": "conda-base-py"
  },
  "language_info": {
   "codemirror_mode": {
    "name": "ipython",
    "version": 3
   },
   "file_extension": ".py",
   "mimetype": "text/x-python",
   "name": "python",
   "nbconvert_exporter": "python",
   "pygments_lexer": "ipython3",
   "version": "3.11.8"
  }
 },
 "nbformat": 4,
 "nbformat_minor": 4
}
