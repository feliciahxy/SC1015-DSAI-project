{
 "cells": [
  {
   "cell_type": "code",
   "execution_count": null,
   "id": "a3bd629d",
   "metadata": {
    "vscode": {
     "languageId": "plaintext"
    }
   },
   "outputs": [],
   "source": [
    "# Import necessary libraries\n",
    "import numpy as np\n",
    "import pandas as pd\n",
    "import matplotlib.pyplot as plt\n",
    "from sklearn.model_selection import train_test_split\n",
    "from sklearn import metrics\n",
    "from sklearn.metrics import mean_squared_error, mean_absolute_error, r2_score\n",
    "from sklearn.linear_model import LinearRegression\n",
    "from sklearn.preprocessing import LabelEncoder\n",
    "import xgboost as xgb"
   ]
  },
  {
   "cell_type": "code",
   "execution_count": null,
   "id": "967b96d0",
   "metadata": {
    "vscode": {
     "languageId": "plaintext"
    }
   },
   "outputs": [],
   "source": [
    "# Import dataset \n",
    "private_data = \"../datasets/cleaned/cleaned_private.csv\"\n",
    "\n",
    "df = pd.read_csv(private_data, quotechar='\"', escapechar='\\\\', thousands=',')\n",
    "df"
   ]
  },
  {
   "cell_type": "markdown",
   "id": "ba34c3d2",
   "metadata": {},
   "source": [
    "# XGBoost Model"
   ]
  },
  {
   "cell_type": "code",
   "execution_count": null,
   "id": "e83e1d91",
   "metadata": {
    "vscode": {
     "languageId": "plaintext"
    }
   },
   "outputs": [],
   "source": [
    "# Preprocess data: Extract 'Sale Month-Year' from 'Sale Date'\n",
    "df['Sale Month-Year'] = pd.to_datetime(df['Sale Date']).dt.to_period('M').astype(str)\n",
    "\n",
    "# Remove price outliers using IQR method\n",
    "Q1 = df['Price'].quantile(0.25)\n",
    "Q3 = df['Price'].quantile(0.75)\n",
    "IQR = Q3 - Q1\n",
    "lower_bound = Q1 - 1.5 * IQR\n",
    "upper_bound = Q3 + 1.5 * IQR\n",
    "df = df[(df['Price'] >= lower_bound) & (df['Price'] <= upper_bound)]\n",
    "\n",
    "# Reset index (optional if not filtering)\n",
    "df.reset_index(drop=True, inplace=True)\n",
    "\n",
    "# Select relevant columns\n",
    "features = ['Area (SQFT)', 'Lease_Category', 'Property Type', 'Postal District',\n",
    "            'Type of Sale', 'Floor Level', 'Sale Month-Year', 'Distance to MRT (km)']\n",
    "target = 'Price'\n",
    "\n",
    "# Encode categorical features\n",
    "df_encoded = df[features + [target]].copy()\n",
    "categorical_cols = ['Lease_Category', 'Property Type', 'Postal District', \n",
    "                    'Type of Sale', 'Floor Level', 'Sale Month-Year']\n",
    "label_encoders = {}\n",
    "\n",
    "for col in categorical_cols:\n",
    "    le = LabelEncoder()\n",
    "    df_encoded[col] = le.fit_transform(df_encoded[col])\n",
    "    label_encoders[col] = le  # Save if needed later\n",
    "\n",
    "# Split into features and target\n",
    "X = df_encoded[features]\n",
    "y = df_encoded[target]\n",
    "\n",
    "# Train-test split\n",
    "X_train, X_test, y_train, y_test = train_test_split(X, y, test_size=0.25, random_state=40)\n",
    "\n",
    "# Train XGBoost Regressor\n",
    "model = xgb.XGBRegressor(objective='reg:squarederror', random_state=40)\n",
    "model.fit(X_train, y_train)\n",
    "\n",
    "# Predict\n",
    "y_pred = model.predict(X_test)"
   ]
  },
  {
   "cell_type": "code",
   "execution_count": null,
   "id": "a810ce0d",
   "metadata": {
    "vscode": {
     "languageId": "plaintext"
    }
   },
   "outputs": [],
   "source": [
    "# Feature Importance Plot (which features XGBoost found most useful during training)\n",
    "xgb.plot_importance(model, importance_type='gain', height=0.6)\n",
    "plt.title('Feature Importance')\n",
    "plt.tight_layout()\n",
    "plt.show()"
   ]
  },
  {
   "cell_type": "code",
   "execution_count": null,
   "id": "26dc0694",
   "metadata": {
    "vscode": {
     "languageId": "plaintext"
    }
   },
   "outputs": [],
   "source": [
    "# Scatter Plot of Actual vs Predicted Prices (how close predictions are to the actual values)\n",
    "plt.figure(figsize=(8, 6))\n",
    "plt.scatter(y_test, y_pred, alpha=0.5, color='royalblue')\n",
    "plt.plot([y_test.min(), y_test.max()], [y_test.min(), y_test.max()], 'r--')  # perfect prediction line\n",
    "plt.xlabel('Actual Price')\n",
    "plt.ylabel('Predicted Price')\n",
    "plt.title('Actual vs Predicted Prices')\n",
    "plt.grid(True)\n",
    "plt.tight_layout()\n",
    "plt.show()"
   ]
  },
  {
   "cell_type": "code",
   "execution_count": null,
   "id": "64a2485e",
   "metadata": {
    "vscode": {
     "languageId": "plaintext"
    }
   },
   "outputs": [],
   "source": [
    "# Evaluate XGBoost model\n",
    "mse = mean_squared_error(y_test, y_pred)\n",
    "mae = mean_absolute_error(y_test, y_pred)\n",
    "r2 = r2_score(y_test, y_pred)\n",
    "\n",
    "print(f\"Mean Squared Error (MSE): {mse:.2f}\")\n",
    "print(f\"Mean Absolute Error (MAE): {mae:.2f}\")\n",
    "print(f\"R^2 Score: {r2:.4f}\")"
   ]
  }
 ],
 "metadata": {
  "language_info": {
   "name": "python"
  }
 },
 "nbformat": 4,
 "nbformat_minor": 5
}
