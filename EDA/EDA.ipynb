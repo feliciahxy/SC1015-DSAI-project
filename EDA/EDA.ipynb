{
 "cells": [
  {
   "cell_type": "markdown",
   "metadata": {},
   "source": [
    "### Notes for cleaning\n",
    "Focus on lease year remaining. Lease duration and lease start have iffy values\n",
    "Price = transaction price/no. of units [there are some transaction with multiple units]\n",
    "\n",
    "### Some context:\n",
    "- resale property is a completed property sold by an owner, while a subsale property involves the original buyer selling a unit before the project's completion or Temporary Occupation Permit (TOP), often to a different buyer\n",
    "\n"
   ]
  },
  {
   "cell_type": "code",
   "execution_count": 1,
   "metadata": {},
   "outputs": [],
   "source": [
    "import numpy as np\n",
    "import pandas as pd\n",
    "import re\n",
    "from datetime import datetime\n",
    "import json\n",
    "import seaborn as sb\n",
    "import matplotlib.pyplot as plt"
   ]
  },
  {
   "cell_type": "code",
   "execution_count": 2,
   "metadata": {},
   "outputs": [],
   "source": [
    "private_data = \"../datasets/cleaned/cleaned_private.csv\"\n",
    "\n",
    "df = pd.read_csv(private_data, quotechar='\"', escapechar='\\\\', thousands=',')"
   ]
  }
 ],
 "metadata": {
  "kernelspec": {
   "display_name": "base",
   "language": "python",
   "name": "python3"
  },
  "language_info": {
   "codemirror_mode": {
    "name": "ipython",
    "version": 3
   },
   "file_extension": ".py",
   "mimetype": "text/x-python",
   "name": "python",
   "nbconvert_exporter": "python",
   "pygments_lexer": "ipython3",
   "version": "3.11.4"
  }
 },
 "nbformat": 4,
 "nbformat_minor": 2
}
